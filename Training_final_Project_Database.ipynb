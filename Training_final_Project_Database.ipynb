{
 "cells": [
  {
   "cell_type": "code",
   "execution_count": 1,
   "id": "f00f7580",
   "metadata": {},
   "outputs": [],
   "source": [
    "import mysql.connector as mysql"
   ]
  },
  {
   "cell_type": "code",
   "execution_count": 2,
   "id": "6968a326",
   "metadata": {},
   "outputs": [],
   "source": [
    "db = mysql.connect(\n",
    "    host='127.0.0.1',\n",
    "    user='root',\n",
    "    passwd=\"Kayitare\"\n",
    ")"
   ]
  },
  {
   "cell_type": "code",
   "execution_count": 3,
   "id": "1db0982d",
   "metadata": {},
   "outputs": [],
   "source": [
    "cursor = db.cursor()"
   ]
  },
  {
   "cell_type": "code",
   "execution_count": 4,
   "id": "6588b9f3",
   "metadata": {},
   "outputs": [],
   "source": [
    "cursor.execute('DROP DATABASE FProject_DB')"
   ]
  },
  {
   "cell_type": "code",
   "execution_count": 5,
   "id": "14527646",
   "metadata": {},
   "outputs": [],
   "source": [
    "cursor.execute(\"CREATE DATABASE FProject_DB\")"
   ]
  },
  {
   "cell_type": "code",
   "execution_count": 6,
   "id": "94baecc2",
   "metadata": {},
   "outputs": [
    {
     "name": "stdout",
     "output_type": "stream",
     "text": [
      "('ACEIOT_DB',)\n",
      "('FProject_DB',)\n",
      "('information_schema',)\n",
      "('mysql',)\n",
      "('performance_schema',)\n",
      "('sql_hr',)\n",
      "('sql_inventory',)\n",
      "('sql_invoicing',)\n",
      "('sql_store',)\n",
      "('sys',)\n"
     ]
    }
   ],
   "source": [
    "cursor.execute('SHOW DATABASES')\n",
    "for database in cursor.fetchall():\n",
    "    print(database)"
   ]
  },
  {
   "cell_type": "code",
   "execution_count": 7,
   "id": "6ba9ce9c",
   "metadata": {},
   "outputs": [],
   "source": [
    "db = mysql.connect(\n",
    "    host='127.0.0.1',\n",
    "    user='root',\n",
    "    passwd=\"Kayitare\",\n",
    "    database='fproject_db'\n",
    ")"
   ]
  },
  {
   "cell_type": "code",
   "execution_count": 8,
   "id": "541b35f9",
   "metadata": {},
   "outputs": [],
   "source": [
    "cursor=db.cursor()"
   ]
  },
  {
   "cell_type": "code",
   "execution_count": 9,
   "id": "e9f306e7",
   "metadata": {},
   "outputs": [],
   "source": [
    "cursor.execute('SHOW TABLES')\n",
    "for table in cursor.fetchall():\n",
    "    print(table)"
   ]
  },
  {
   "cell_type": "code",
   "execution_count": 10,
   "id": "c2567e10",
   "metadata": {},
   "outputs": [],
   "source": [
    "querry = \"create table SENSORS_READINGS(ID INT(12) NOT NULL AUTO_INCREMENT UNIQUE PRIMARY KEY, ALCOHOL FLOAT(12), TOTALSUGAR FLOAT(12),ACETICACID FLOAT(12), METHANOL FLOAT(12)) \""
   ]
  },
  {
   "cell_type": "code",
   "execution_count": 11,
   "id": "8cb1a2dd",
   "metadata": {},
   "outputs": [],
   "source": [
    "cursor.execute(querry)"
   ]
  },
  {
   "cell_type": "code",
   "execution_count": 12,
   "id": "dedcb935",
   "metadata": {},
   "outputs": [
    {
     "name": "stdout",
     "output_type": "stream",
     "text": [
      "('SENSORS_READINGS',)\n"
     ]
    }
   ],
   "source": [
    "cursor.execute('SHOW TABLES')\n",
    "for table in cursor.fetchall():\n",
    "    print(table)"
   ]
  },
  {
   "cell_type": "code",
   "execution_count": null,
   "id": "2b096d13",
   "metadata": {},
   "outputs": [],
   "source": []
  },
  {
   "cell_type": "code",
   "execution_count": null,
   "id": "e248031d",
   "metadata": {},
   "outputs": [],
   "source": []
  }
 ],
 "metadata": {
  "kernelspec": {
   "display_name": "Python 3 (ipykernel)",
   "language": "python",
   "name": "python3"
  },
  "language_info": {
   "codemirror_mode": {
    "name": "ipython",
    "version": 3
   },
   "file_extension": ".py",
   "mimetype": "text/x-python",
   "name": "python",
   "nbconvert_exporter": "python",
   "pygments_lexer": "ipython3",
   "version": "3.9.12"
  }
 },
 "nbformat": 4,
 "nbformat_minor": 5
}
